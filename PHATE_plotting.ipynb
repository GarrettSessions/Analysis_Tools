{
 "cells": [
  {
   "cell_type": "code",
   "execution_count": 1,
   "id": "0a8162ad",
   "metadata": {},
   "outputs": [
    {
     "name": "stdout",
     "output_type": "stream",
     "text": [
      "0.11.2\n",
      "1.9.1\n"
     ]
    }
   ],
   "source": [
    "import pickle\n",
    "import os\n",
    "import numpy as np\n",
    "import matplotlib.pyplot as plt\n",
    "from sklearn.decomposition import PCA\n",
    "from sklearn import preprocessing\n",
    "from matplotlib.backends.backend_pdf import PdfPages\n",
    "import seaborn as sns\n",
    "import pandas as pd\n",
    "import phate\n",
    "import math\n",
    "import random\n",
    "import gc\n",
    "import scprep\n",
    "from datetime import datetime, time\n",
    "from matplotlib.animation import ImageMagickWriter\n",
    "import matplotlib.animation as animation\n",
    "import zipfile\n",
    "from urllib.request import urlopen\n",
    "import scipy.stats as st\n",
    "from scipy.stats import norm\n",
    "from scipy.stats import gaussian_kde\n",
    "from scipy.stats import kde\n",
    "from scipy.stats import binned_statistic\n",
    "from scipy.stats import f_oneway\n",
    "from matplotlib.colors import LogNorm\n",
    "from mpl_toolkits.axes_grid1 import make_axes_locatable\n",
    "plt.rcParams['pdf.fonttype'] = 42\n",
    "print(sns.__version__)\n",
    "from anndata import AnnData\n",
    "import scanpy as sc\n",
    "from delve import *\n",
    "import anndata as ad\n",
    "from sklearn.preprocessing import MinMaxScaler\n",
    "from kh import sketch\n",
    "from sklearn.cluster import KMeans\n",
    "import umap\n",
    "print(sc.__version__)\n",
    "today = datetime.now().strftime(\"%m%d%Y-%H%M\")"
   ]
  },
  {
   "cell_type": "code",
   "execution_count": 2,
   "id": "9a1f8fea",
   "metadata": {},
   "outputs": [
    {
     "name": "stderr",
     "output_type": "stream",
     "text": [
      "c:\\Users\\gases\\.conda\\envs\\python_3_7\\lib\\site-packages\\anndata\\_core\\anndata.py:121: ImplicitModificationWarning: Transforming to str index.\n",
      "  warnings.warn(\"Transforming to str index.\", ImplicitModificationWarning)\n"
     ]
    }
   ],
   "source": [
    "#Read back in the subsampled adata file\n",
    "adata_save_path = r'Z:\\Garrett\\4i_data\\112723_RPE_31day_Etop\\experiment\\cell_data\\standard_trimmed_noPSTAT5_adata_sub.h5ad'\n",
    "standard_trimmed_noPSTAT5_adata_sub = anndata.read_h5ad(adata_save_path)"
   ]
  },
  {
   "cell_type": "code",
   "execution_count": 3,
   "id": "a1cbbddd",
   "metadata": {},
   "outputs": [],
   "source": [
    "# Adjusted list comprehension to exclude var_names containing \"total\"\n",
    "columns_to_keep = [name for name in standard_trimmed_noPSTAT5_adata_sub.var_names if \"total_nuc_protein\" not in name]\n",
    "\n",
    "# Selecting the data with only the columns to keep\n",
    "standard_trimmed_noPSTAT5_noTotal_adata_sub = standard_trimmed_noPSTAT5_adata_sub[:, columns_to_keep]\n"
   ]
  },
  {
   "cell_type": "code",
   "execution_count": 4,
   "id": "359db9db",
   "metadata": {},
   "outputs": [],
   "source": [
    "def laplacian_score_fs(adata = None,\n",
    "                    k: int  = None,\n",
    "                    n_jobs: int  = -1):\n",
    "\n",
    "    X, feature_names, obs_names = parse_input(adata)\n",
    "    W = construct_affinity(X = X, k = k, n_jobs = n_jobs)\n",
    "    scores = laplacian_score(X = X, W = W)\n",
    "    predicted_features = pd.DataFrame(scores, index = feature_names, columns = ['laplacian_score'])\n",
    "    predicted_features = predicted_features.sort_values(by = 'laplacian_score', ascending = True)\n",
    "\n",
    "    return predicted_features "
   ]
  },
  {
   "cell_type": "code",
   "execution_count": 14,
   "id": "1d643e0d",
   "metadata": {
    "scrolled": true
   },
   "outputs": [],
   "source": [
    "#l_score_fullest = laplacian_score_fs(adata_fullest_sub, k = 200)\n",
    "l_score_standard = laplacian_score_fs(standard_trimmed_noPSTAT5_adata_sub, k = 100)\n",
    "#l_score_normalized = laplacian_score_fs(normalized_trimmed_noPSTAT5_adata_sub, k = 200)"
   ]
  },
  {
   "cell_type": "code",
   "execution_count": 15,
   "id": "3a925de2",
   "metadata": {
    "scrolled": true
   },
   "outputs": [
    {
     "data": {
      "text/plain": [
       "84"
      ]
     },
     "execution_count": 15,
     "metadata": {},
     "output_type": "execute_result"
    }
   ],
   "source": [
    "len(l_score_standard)"
   ]
  },
  {
   "cell_type": "code",
   "execution_count": 7,
   "id": "5ed07509",
   "metadata": {
    "scrolled": false
   },
   "outputs": [
    {
     "data": {
      "text/plain": [
       "Index(['R5_p38_nuc_mean', 'R0_pRb_nuc_mean', 'R6_pSTAT3_ring_mean',\n",
       "       'R2_IL6_ring_mean', 'R0_pRb_ratio', 'R6_p65_ring_mean',\n",
       "       'R6_pSTAT3_nuc_mean', 'R5_p38_ring_mean', 'R6_p65_nuc_mean',\n",
       "       'R4_IL8_ring_mean', 'R0_Rb_ratio', 'R1_p21_nuc_mean', 'R2_IL6_nuc_mean',\n",
       "       'R7_GATA4_nuc_mean', 'R1_p21_ratio', 'R0_Rb_nuc_mean',\n",
       "       'R7_GATA4_ring_mean', 'nuc_area', 'R5_p38_ratio', 'R7_pp38_nuc_mean',\n",
       "       'R2_pp65_ring_mean', 'R1_p16_nuc_mean', 'R3_p53_ring_mean',\n",
       "       'R2_pp65_nuc_mean', 'R3_PLAUR_ring_mean', 'R3_PLAUR_nuc_mean',\n",
       "       'R1_Jak2_nuc_mean', 'R7_pp38_ring_mean', 'R5_STAT5_ratio',\n",
       "       'R5_STAT5_nuc_mean', 'R6_p65_ratio', 'R7_pp38_ratio',\n",
       "       'R1_p21_ring_mean', 'R1_p16_ring_mean', 'R4_PARP1_nuc_mean',\n",
       "       'R6_pSTAT3_ratio', 'minor_axis_length', 'R5_STAT5_ring_mean',\n",
       "       'R3_p53_nuc_mean', 'R1_Jak2_ratio', 'R2_IL6_ratio', 'R1_Jak2_ring_mean',\n",
       "       'R2_pp65_ratio', 'R4_PARP1_ratio', 'R7_GATA4_ratio',\n",
       "       'major_axis_length'],\n",
       "      dtype='object')"
      ]
     },
     "execution_count": 7,
     "metadata": {},
     "output_type": "execute_result"
    }
   ],
   "source": [
    "l_score_standard.index[:46]"
   ]
  },
  {
   "cell_type": "markdown",
   "id": "07324ee4",
   "metadata": {},
   "source": [
    "For plotting different data onto 3D PHATE structures"
   ]
  },
  {
   "cell_type": "code",
   "execution_count": null,
   "id": "443bebd2",
   "metadata": {},
   "outputs": [],
   "source": [
    "import os\n",
    "import numpy as np\n",
    "import matplotlib.pyplot as plt\n",
    "from matplotlib.backends.backend_agg import FigureCanvasAgg as FigureCanvas\n",
    "from mpl_toolkits.mplot3d import Axes3D\n",
    "import matplotlib.colors as mcolors\n",
    "from pptx import Presentation\n",
    "from pptx.util import Inches, Cm\n",
    "from io import BytesIO\n",
    "\n",
    "# Define angles for rotation in degrees\n",
    "angles = [(30, 30), (30, 120), (30, 210), (30, 300)]\n",
    "\n",
    "# Ensure the directory for saving plots exists\n",
    "plots_dir = 'phate_plots'\n",
    "os.makedirs(plots_dir, exist_ok=True)\n",
    "\n",
    "# Create a PowerPoint presentation object\n",
    "prs = Presentation()\n",
    "slide_width = prs.slide_width\n",
    "slide_height = prs.slide_height\n",
    "\n",
    "# Get all features in .var_names\n",
    "features = standard_trimmed_noPSTAT5_adata_sub.var_names\n",
    "\n",
    "# Loop over each feature\n",
    "for feature in features:\n",
    "    # Obtain expression data for the feature\n",
    "    data = standard_trimmed_noPSTAT5_adata_sub[:, feature].X\n",
    "\n",
    "    # Cap high and low values for visualization\n",
    "    percentile_99 = np.percentile(data, 99)\n",
    "    percentile_1 = np.percentile(data, 1)\n",
    "    data_capped = np.clip(data, percentile_1, percentile_99)\n",
    "\n",
    "    # Normalize and map data to colors\n",
    "    norm = plt.Normalize(np.min(data_capped), np.max(data_capped))\n",
    "    cmap = plt.get_cmap('viridis')\n",
    "    colors = cmap(norm(data_capped))\n",
    "\n",
    "    # Create a single figure with a 2x2 grid of subplots\n",
    "    fig = plt.figure(figsize=(16, 16))\n",
    "    for i, (elev, azim) in enumerate(angles, start=1):\n",
    "        ax = fig.add_subplot(2, 2, i, projection='3d')\n",
    "        # Plot the feature data\n",
    "        ax.scatter(standard_trimmed_noPSTAT5_adata_sub.obsm['X_phate'][:, 0], \n",
    "                   standard_trimmed_noPSTAT5_adata_sub.obsm['X_phate'][:, 1], \n",
    "                   standard_trimmed_noPSTAT5_adata_sub.obsm['X_phate'][:, 2], \n",
    "                   color=colors, label=feature, s=5)\n",
    "        ax.view_init(elev=elev, azim=azim)\n",
    "        ax.set_title(f'View Angle {i}: {feature}')\n",
    "\n",
    "    # Save plot to a BytesIO object\n",
    "    canvas = FigureCanvas(fig)\n",
    "    canvas.draw()\n",
    "    image_stream = BytesIO()\n",
    "    plt.savefig(image_stream, format='png')\n",
    "    plt.close(fig)\n",
    "\n",
    "    # Add a slide to the presentation and remove default placeholders\n",
    "    slide_layout = prs.slide_layouts[5]  # Using a blank slide layout\n",
    "    slide = prs.slides.add_slide(slide_layout)\n",
    "    for placeholder in slide.placeholders:\n",
    "        placeholder.element.getparent().remove(placeholder.element)\n",
    "    \n",
    "    # Calculate image size to maximize slide use while keeping aspect ratio\n",
    "    aspect_ratio = fig.get_figwidth() / fig.get_figheight()\n",
    "    slide_aspect_ratio = slide_width / slide_height\n",
    "    if aspect_ratio > slide_aspect_ratio:\n",
    "        width = slide_width\n",
    "        height = slide_width / aspect_ratio\n",
    "    else:\n",
    "        height = slide_height\n",
    "        width = slide_height * aspect_ratio\n",
    "\n",
    "    left = (slide_width - width) / 2\n",
    "    top = (slide_height - height) / 2\n",
    "\n",
    "    pic = slide.shapes.add_picture(image_stream, left, top, width=width, height=height)\n",
    "    image_stream.close()\n",
    "\n",
    "# Save the presentation\n",
    "prs.save(f'{plots_dir}/phate_plots_presentation.pptx')\n",
    "print(\"PowerPoint presentation saved with combined 3D PHATE plots optimized to fill slides.\")\n"
   ]
  }
 ],
 "metadata": {
  "kernelspec": {
   "display_name": "Python 3 (ipykernel)",
   "language": "python",
   "name": "python3"
  },
  "language_info": {
   "codemirror_mode": {
    "name": "ipython",
    "version": 3
   },
   "file_extension": ".py",
   "mimetype": "text/x-python",
   "name": "python",
   "nbconvert_exporter": "python",
   "pygments_lexer": "ipython3",
   "version": "3.7.13"
  }
 },
 "nbformat": 4,
 "nbformat_minor": 5
}
