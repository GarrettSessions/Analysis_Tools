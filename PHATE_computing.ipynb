{
 "cells": [
  {
   "cell_type": "code",
   "execution_count": 1,
   "id": "0a8162ad",
   "metadata": {},
   "outputs": [
    {
     "name": "stdout",
     "output_type": "stream",
     "text": [
      "0.11.2\n",
      "1.9.1\n"
     ]
    }
   ],
   "source": [
    "import pickle\n",
    "import os\n",
    "import numpy as np\n",
    "import matplotlib.pyplot as plt\n",
    "from sklearn.decomposition import PCA\n",
    "from sklearn import preprocessing\n",
    "from matplotlib.backends.backend_pdf import PdfPages\n",
    "import seaborn as sns\n",
    "import pandas as pd\n",
    "import phate\n",
    "import math\n",
    "import random\n",
    "import gc\n",
    "import scprep\n",
    "from datetime import datetime, time\n",
    "from matplotlib.animation import ImageMagickWriter\n",
    "import matplotlib.animation as animation\n",
    "import zipfile\n",
    "from urllib.request import urlopen\n",
    "import scipy.stats as st\n",
    "from scipy.stats import norm\n",
    "from scipy.stats import gaussian_kde\n",
    "from scipy.stats import kde\n",
    "from scipy.stats import binned_statistic\n",
    "from scipy.stats import f_oneway\n",
    "from matplotlib.colors import LogNorm\n",
    "from mpl_toolkits.axes_grid1 import make_axes_locatable\n",
    "plt.rcParams['pdf.fonttype'] = 42\n",
    "print(sns.__version__)\n",
    "from anndata import AnnData\n",
    "import scanpy as sc\n",
    "from delve import *\n",
    "import anndata as ad\n",
    "from sklearn.preprocessing import MinMaxScaler\n",
    "from kh import sketch\n",
    "from sklearn.cluster import KMeans\n",
    "import umap\n",
    "print(sc.__version__)\n",
    "today = datetime.now().strftime(\"%m%d%Y-%H%M\")"
   ]
  },
  {
   "cell_type": "code",
   "execution_count": 2,
   "id": "9a1f8fea",
   "metadata": {},
   "outputs": [],
   "source": [
    "#Read back in the subsampled adata file\n",
    "adata_save_path = r'Z:\\Garrett\\4i_data\\050824_HuSynFibro_SenInduction\\cell_data\\standard_adata_sub_no_sparse.h5ad'\n",
    "standard_adata_sub_no_sparse = anndata.read_h5ad(adata_save_path)"
   ]
  },
  {
   "cell_type": "code",
   "execution_count": 3,
   "id": "a1cbbddd",
   "metadata": {},
   "outputs": [],
   "source": [
    "# Adjusted list comprehension to exclude var_names containing \"total\"\n",
    "columns_to_keep = [name for name in standard_adata_sub_no_sparse.var_names if \"total_nuc_protein\" not in name]\n",
    "\n",
    "# Selecting the data with only the columns to keep\n",
    "standard_trimmed_noPSTAT5_noTotal_adata_sub = standard_adata_sub_no_sparse[:, columns_to_keep]\n"
   ]
  },
  {
   "cell_type": "code",
   "execution_count": 4,
   "id": "359db9db",
   "metadata": {},
   "outputs": [],
   "source": [
    "def laplacian_score_fs(adata = None,\n",
    "                    k: int  = None,\n",
    "                    n_jobs: int  = -1):\n",
    "\n",
    "    X, feature_names, obs_names = parse_input(adata)\n",
    "    W = construct_affinity(X = X, k = k, n_jobs = n_jobs)\n",
    "    scores = laplacian_score(X = X, W = W)\n",
    "    predicted_features = pd.DataFrame(scores, index = feature_names, columns = ['laplacian_score'])\n",
    "    predicted_features = predicted_features.sort_values(by = 'laplacian_score', ascending = True)\n",
    "\n",
    "    return predicted_features "
   ]
  },
  {
   "cell_type": "code",
   "execution_count": 5,
   "id": "1d643e0d",
   "metadata": {
    "scrolled": true
   },
   "outputs": [],
   "source": [
    "#l_score_fullest = laplacian_score_fs(adata_fullest_sub, k = 200)\n",
    "l_score_standard = laplacian_score_fs(standard_adata_sub_no_sparse, k = 100)\n",
    "#l_score_normalized = laplacian_score_fs(normalized_trimmed_noPSTAT5_adata_sub, k = 200)"
   ]
  },
  {
   "cell_type": "code",
   "execution_count": 6,
   "id": "3a925de2",
   "metadata": {
    "scrolled": true
   },
   "outputs": [
    {
     "data": {
      "text/plain": [
       "48"
      ]
     },
     "execution_count": 6,
     "metadata": {},
     "output_type": "execute_result"
    }
   ],
   "source": [
    "len(l_score_standard)"
   ]
  },
  {
   "cell_type": "code",
   "execution_count": 7,
   "id": "5ed07509",
   "metadata": {
    "scrolled": false
   },
   "outputs": [
    {
     "data": {
      "text/plain": [
       "Index(['total_IL6_nuc', 'total_pp65_nuc', 'R4_IL8_nuc_mean',\n",
       "       'R4_PARP1_nuc_mean', 'total_PDPN_nuc', 'area', 'total_IL8_nuc',\n",
       "       'R1_IL6_nuc_mean', 'R1_pp65_nuc_mean', 'total_PARP1_nuc',\n",
       "       'R3_RB_ring_mean', 'R3_pRB_nuc_mean', 'R5_PDPN_nuc_mean',\n",
       "       'R0_p21_nuc_mean', 'R4_IL8_ring_mean', 'R1_Jak2_ring_mean',\n",
       "       'total_Jak2_nuc', 'total_p38_nuc', 'total_p21_nuc', 'total_p16_nuc',\n",
       "       'R1_Jak2_nuc_mean', 'total_GATA4_nuc', 'total_p53_nuc',\n",
       "       'R3_RB_nuc_mean', 'R0_p16_nuc_mean', 'total_pH2AX_nuc',\n",
       "       'R0_p38_ring_mean', 'R4_PARP1_ring_mean', 'R2_p53_ring_mean',\n",
       "       'R5_pH2AX_ring_mean', 'R5_pH2AX_nuc_mean', 'R2_GATA4_nuc_mean',\n",
       "       'R1_pp65_ring_mean', 'R0_p16_ring_mean', 'R0_p38_nuc_mean',\n",
       "       'R3_pRB_ring_mean', 'R2_p53_nuc_mean', 'R0_p21_ring_mean',\n",
       "       'R1_IL6_ring_mean', 'R5_PDPN_ring_mean', 'minor_axis_length',\n",
       "       'R0_DNA_nuc_mean', 'major_axis_length', 'R2_GATA4_ring_mean', 'pRB_RB',\n",
       "       'total_DNA'],\n",
       "      dtype='object')"
      ]
     },
     "execution_count": 7,
     "metadata": {},
     "output_type": "execute_result"
    }
   ],
   "source": [
    "l_score_standard.index[:46]"
   ]
  },
  {
   "cell_type": "markdown",
   "id": "07324ee4",
   "metadata": {},
   "source": [
    "For plotting 3D PHATE structures"
   ]
  },
  {
   "cell_type": "code",
   "execution_count": 12,
   "id": "443bebd2",
   "metadata": {},
   "outputs": [
    {
     "name": "stdout",
     "output_type": "stream",
     "text": [
      "Calculating PHATE...\n",
      "  Running PHATE on 20400 observations and 10 variables.\n",
      "  Calculating graph and diffusion operator...\n",
      "    Calculating KNN search...\n",
      "    Calculated KNN search in 5.54 seconds.\n",
      "    Calculating affinities...\n",
      "    Calculated affinities in 0.57 seconds.\n",
      "  Calculated graph and diffusion operator in 6.22 seconds.\n",
      "  Calculating landmark operator...\n",
      "    Calculating SVD...\n",
      "    Calculated SVD in 3.96 seconds.\n",
      "    Calculating KMeans...\n",
      "    Calculated KMeans in 5.64 seconds.\n",
      "  Calculated landmark operator in 10.67 seconds.\n",
      "  Calculating optimal t...\n",
      "    Automatically selected t = 23\n",
      "  Calculated optimal t in 2.75 seconds.\n",
      "  Calculating diffusion potential...\n",
      "  Calculated diffusion potential in 0.83 seconds.\n",
      "  Calculating metric MDS...\n",
      "  Calculated metric MDS in 27.32 seconds.\n",
      "Calculated PHATE in 47.80 seconds.\n",
      "Calculating PHATE...\n",
      "  Running PHATE on 20400 observations and 20 variables.\n",
      "  Calculating graph and diffusion operator...\n",
      "    Calculating KNN search...\n",
      "    Calculated KNN search in 10.85 seconds.\n",
      "    Calculating affinities...\n",
      "    Calculated affinities in 0.55 seconds.\n",
      "  Calculated graph and diffusion operator in 11.51 seconds.\n",
      "  Calculating landmark operator...\n",
      "    Calculating SVD...\n",
      "    Calculated SVD in 4.11 seconds.\n",
      "    Calculating KMeans...\n",
      "    Calculated KMeans in 6.96 seconds.\n",
      "  Calculated landmark operator in 12.40 seconds.\n",
      "  Calculating optimal t...\n",
      "    Automatically selected t = 20\n",
      "  Calculated optimal t in 2.92 seconds.\n",
      "  Calculating diffusion potential...\n",
      "  Calculated diffusion potential in 0.64 seconds.\n",
      "  Calculating metric MDS...\n",
      "  Calculated metric MDS in 43.49 seconds.\n",
      "Calculated PHATE in 70.97 seconds.\n",
      "Calculating PHATE...\n",
      "  Running PHATE on 20400 observations and 10 variables.\n",
      "  Calculating graph and diffusion operator...\n",
      "    Calculating KNN search...\n",
      "    Calculated KNN search in 7.37 seconds.\n",
      "    Calculating affinities...\n",
      "    Calculated affinities in 1.11 seconds.\n",
      "  Calculated graph and diffusion operator in 8.63 seconds.\n",
      "  Calculating landmark operator...\n",
      "    Calculating SVD...\n",
      "    Calculated SVD in 6.35 seconds.\n",
      "    Calculating KMeans...\n",
      "    Calculated KMeans in 5.34 seconds.\n",
      "  Calculated landmark operator in 12.92 seconds.\n",
      "  Calculating optimal t...\n",
      "    Automatically selected t = 24\n",
      "  Calculated optimal t in 2.94 seconds.\n",
      "  Calculating diffusion potential...\n",
      "  Calculated diffusion potential in 0.51 seconds.\n",
      "  Calculating metric MDS...\n",
      "  Calculated metric MDS in 45.89 seconds.\n",
      "Calculated PHATE in 70.90 seconds.\n",
      "Calculating PHATE...\n",
      "  Running PHATE on 20400 observations and 20 variables.\n",
      "  Calculating graph and diffusion operator...\n",
      "    Calculating KNN search...\n",
      "    Calculated KNN search in 12.69 seconds.\n",
      "    Calculating affinities...\n",
      "    Calculated affinities in 1.07 seconds.\n",
      "  Calculated graph and diffusion operator in 13.98 seconds.\n",
      "  Calculating landmark operator...\n",
      "    Calculating SVD...\n",
      "    Calculated SVD in 7.16 seconds.\n",
      "    Calculating KMeans...\n",
      "    Calculated KMeans in 7.02 seconds.\n",
      "  Calculated landmark operator in 15.61 seconds.\n",
      "  Calculating optimal t...\n",
      "    Automatically selected t = 23\n",
      "  Calculated optimal t in 2.72 seconds.\n",
      "  Calculating diffusion potential...\n",
      "  Calculated diffusion potential in 0.78 seconds.\n",
      "  Calculating metric MDS...\n",
      "  Calculated metric MDS in 107.33 seconds.\n",
      "Calculated PHATE in 140.43 seconds.\n",
      "3D PHATE plots saved with multiple angles and legends. PowerPoint presentation saved as phate_plots_presentation.pptx.\n"
     ]
    }
   ],
   "source": [
    "import os\n",
    "import numpy as np\n",
    "import phate\n",
    "import matplotlib.pyplot as plt\n",
    "from mpl_toolkits.mplot3d import Axes3D\n",
    "from pptx import Presentation\n",
    "from pptx.util import Inches\n",
    "from io import BytesIO\n",
    "\n",
    "# Define parameter ranges\n",
    "count_list = [50, 100]\n",
    "index_ranges = [10, 20]\n",
    "t_values = ['auto']\n",
    "gamma_values = [1]\n",
    "\n",
    "# Create a PowerPoint presentation object\n",
    "presentation = Presentation()\n",
    "\n",
    "# Loop over each combination of parameters\n",
    "for count in count_list:\n",
    "    for index_range in index_ranges:\n",
    "        for t in t_values:\n",
    "            for gamma in gamma_values:\n",
    "                # Initialize PHATE operator with varying t and gamma, projecting to three dimensions\n",
    "                phate_op = phate.PHATE(knn=count, t=t, gamma=gamma, n_components=3)\n",
    "\n",
    "                # Fit-transform PHATE\n",
    "                X_phate = phate_op.fit_transform(\n",
    "                    standard_adata_sub_no_sparse.X[:, np.isin(standard_adata_sub_no_sparse.var_names, l_score_standard.index[:index_range])])\n",
    "                \n",
    "                # Set PHATE result for plotting\n",
    "                standard_adata_sub_no_sparse.obsm['X_phate'] = X_phate\n",
    "                \n",
    "                # Generate plot title\n",
    "                plot_title = f'PHATE: Neighbors={count}, Index Range={index_range}, t={t}, gamma={gamma}'\n",
    "\n",
    "                # Define angles for rotation in degrees\n",
    "                angles = [(30, 30), (30, 120), (30, 210), (30, 300)]\n",
    "\n",
    "                # Define unique labels and their corresponding colors\n",
    "                labels = np.unique(standard_adata_sub_no_sparse.obs['treatment'])\n",
    "                color_map = plt.get_cmap('viridis', len(labels))\n",
    "                colors = color_map(np.linspace(0, 1, len(labels)))\n",
    "                color_dict = dict(zip(labels, colors))\n",
    "\n",
    "                # Create a new slide for the current set of plots\n",
    "                slide = presentation.slides.add_slide(presentation.slide_layouts[5])\n",
    "                title = slide.shapes.title\n",
    "                title.text = plot_title\n",
    "\n",
    "                for i, (elev, azim) in enumerate(angles, start=1):\n",
    "                    fig = plt.figure()\n",
    "                    ax = fig.add_subplot(111, projection='3d')\n",
    "                    # Plot each label with a unique color\n",
    "                    for label, color in color_dict.items():\n",
    "                        idx = standard_adata_sub_no_sparse.obs['treatment'] == label\n",
    "                        ax.scatter(X_phate[idx, 0], X_phate[idx, 1], X_phate[idx, 2], color=color, label=label, s=5)\n",
    "                    \n",
    "                    ax.view_init(elev=elev, azim=azim)\n",
    "                    ax.set_title(plot_title)\n",
    "                    ax.legend(title='Treatment', bbox_to_anchor=(1.05, 1), loc='upper left')\n",
    "\n",
    "                    # Save the plot to a BytesIO object\n",
    "                    img_stream = BytesIO()\n",
    "                    plt.savefig(img_stream, format='png', bbox_inches='tight')\n",
    "                    plt.close()\n",
    "                    img_stream.seek(0)\n",
    "                    \n",
    "                    # Add the plot to the current slide in a 2x2 grid\n",
    "                    left = Inches(1 + ((i-1) % 2) * 4)\n",
    "                    top = Inches(1.5 + ((i-1) // 2) * 3.5)\n",
    "                    slide.shapes.add_picture(img_stream, left, top, width=Inches(3.5))\n",
    "\n",
    "# Save the PowerPoint presentation\n",
    "pptx_filename = 'phate_plots_presentation.pptx'\n",
    "presentation.save(pptx_filename)\n",
    "\n",
    "print(f\"3D PHATE plots saved with multiple angles and legends. PowerPoint presentation saved as {pptx_filename}.\")\n"
   ]
  },
  {
   "cell_type": "markdown",
   "id": "c322c771",
   "metadata": {},
   "source": [
    "After you've decided on a final structure, you can save the ADATA file. It should have the PHATE coordinates saved as part of it now, removing the need to recompute the phate structure if you want to plot different things onto it later"
   ]
  },
  {
   "cell_type": "code",
   "execution_count": null,
   "id": "56d5ddcb",
   "metadata": {},
   "outputs": [],
   "source": [
    "#Save the entire adata file with new PHATE embeddings\n",
    "adata_save_path = r'my\\save\\path\\standard_adata_sub_sub.h5ad'\n",
    "standard_adata_sub_no_sparse.write_h5ad(adata_save_path)"
   ]
  }
 ],
 "metadata": {
  "kernelspec": {
   "display_name": "Python 3 (ipykernel)",
   "language": "python",
   "name": "python3"
  },
  "language_info": {
   "codemirror_mode": {
    "name": "ipython",
    "version": 3
   },
   "file_extension": ".py",
   "mimetype": "text/x-python",
   "name": "python",
   "nbconvert_exporter": "python",
   "pygments_lexer": "ipython3",
   "version": "3.7.13"
  }
 },
 "nbformat": 4,
 "nbformat_minor": 5
}
