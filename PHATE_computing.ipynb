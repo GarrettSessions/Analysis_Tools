{
 "cells": [
  {
   "cell_type": "code",
   "execution_count": 1,
   "id": "0a8162ad",
   "metadata": {},
   "outputs": [
    {
     "name": "stdout",
     "output_type": "stream",
     "text": [
      "0.11.2\n",
      "1.9.1\n"
     ]
    }
   ],
   "source": [
    "import pickle\n",
    "import os\n",
    "import numpy as np\n",
    "import matplotlib.pyplot as plt\n",
    "from sklearn.decomposition import PCA\n",
    "from sklearn import preprocessing\n",
    "from matplotlib.backends.backend_pdf import PdfPages\n",
    "import seaborn as sns\n",
    "import pandas as pd\n",
    "import phate\n",
    "import math\n",
    "import random\n",
    "import gc\n",
    "import scprep\n",
    "from datetime import datetime, time\n",
    "from matplotlib.animation import ImageMagickWriter\n",
    "import matplotlib.animation as animation\n",
    "import zipfile\n",
    "from urllib.request import urlopen\n",
    "import scipy.stats as st\n",
    "from scipy.stats import norm\n",
    "from scipy.stats import gaussian_kde\n",
    "from scipy.stats import kde\n",
    "from scipy.stats import binned_statistic\n",
    "from scipy.stats import f_oneway\n",
    "from matplotlib.colors import LogNorm\n",
    "from mpl_toolkits.axes_grid1 import make_axes_locatable\n",
    "plt.rcParams['pdf.fonttype'] = 42\n",
    "print(sns.__version__)\n",
    "from anndata import AnnData\n",
    "import scanpy as sc\n",
    "from delve import *\n",
    "import anndata as ad\n",
    "from sklearn.preprocessing import MinMaxScaler\n",
    "from kh import sketch\n",
    "from sklearn.cluster import KMeans\n",
    "import umap\n",
    "print(sc.__version__)\n",
    "today = datetime.now().strftime(\"%m%d%Y-%H%M\")"
   ]
  },
  {
   "cell_type": "code",
   "execution_count": 2,
   "id": "9a1f8fea",
   "metadata": {},
   "outputs": [
    {
     "name": "stderr",
     "output_type": "stream",
     "text": [
      "c:\\Users\\gases\\.conda\\envs\\python_3_7\\lib\\site-packages\\anndata\\_core\\anndata.py:121: ImplicitModificationWarning: Transforming to str index.\n",
      "  warnings.warn(\"Transforming to str index.\", ImplicitModificationWarning)\n"
     ]
    }
   ],
   "source": [
    "#Read back in the subsampled adata file\n",
    "adata_save_path = r'Z:\\Garrett\\4i_data\\112723_RPE_31day_Etop\\experiment\\cell_data\\standard_trimmed_noPSTAT5_adata_sub.h5ad'\n",
    "standard_trimmed_noPSTAT5_adata_sub = anndata.read_h5ad(adata_save_path)"
   ]
  },
  {
   "cell_type": "code",
   "execution_count": 3,
   "id": "a1cbbddd",
   "metadata": {},
   "outputs": [],
   "source": [
    "# Adjusted list comprehension to exclude var_names containing \"total\"\n",
    "columns_to_keep = [name for name in standard_trimmed_noPSTAT5_adata_sub.var_names if \"total_nuc_protein\" not in name]\n",
    "\n",
    "# Selecting the data with only the columns to keep\n",
    "standard_trimmed_noPSTAT5_noTotal_adata_sub = standard_trimmed_noPSTAT5_adata_sub[:, columns_to_keep]\n"
   ]
  },
  {
   "cell_type": "code",
   "execution_count": 4,
   "id": "359db9db",
   "metadata": {},
   "outputs": [],
   "source": [
    "def laplacian_score_fs(adata = None,\n",
    "                    k: int  = None,\n",
    "                    n_jobs: int  = -1):\n",
    "\n",
    "    X, feature_names, obs_names = parse_input(adata)\n",
    "    W = construct_affinity(X = X, k = k, n_jobs = n_jobs)\n",
    "    scores = laplacian_score(X = X, W = W)\n",
    "    predicted_features = pd.DataFrame(scores, index = feature_names, columns = ['laplacian_score'])\n",
    "    predicted_features = predicted_features.sort_values(by = 'laplacian_score', ascending = True)\n",
    "\n",
    "    return predicted_features "
   ]
  },
  {
   "cell_type": "code",
   "execution_count": 14,
   "id": "1d643e0d",
   "metadata": {
    "scrolled": true
   },
   "outputs": [],
   "source": [
    "#l_score_fullest = laplacian_score_fs(adata_fullest_sub, k = 200)\n",
    "l_score_standard = laplacian_score_fs(standard_trimmed_noPSTAT5_adata_sub, k = 100)\n",
    "#l_score_normalized = laplacian_score_fs(normalized_trimmed_noPSTAT5_adata_sub, k = 200)"
   ]
  },
  {
   "cell_type": "code",
   "execution_count": 15,
   "id": "3a925de2",
   "metadata": {
    "scrolled": true
   },
   "outputs": [
    {
     "data": {
      "text/plain": [
       "84"
      ]
     },
     "execution_count": 15,
     "metadata": {},
     "output_type": "execute_result"
    }
   ],
   "source": [
    "len(l_score_standard)"
   ]
  },
  {
   "cell_type": "code",
   "execution_count": 7,
   "id": "5ed07509",
   "metadata": {
    "scrolled": false
   },
   "outputs": [
    {
     "data": {
      "text/plain": [
       "Index(['R5_p38_nuc_mean', 'R0_pRb_nuc_mean', 'R6_pSTAT3_ring_mean',\n",
       "       'R2_IL6_ring_mean', 'R0_pRb_ratio', 'R6_p65_ring_mean',\n",
       "       'R6_pSTAT3_nuc_mean', 'R5_p38_ring_mean', 'R6_p65_nuc_mean',\n",
       "       'R4_IL8_ring_mean', 'R0_Rb_ratio', 'R1_p21_nuc_mean', 'R2_IL6_nuc_mean',\n",
       "       'R7_GATA4_nuc_mean', 'R1_p21_ratio', 'R0_Rb_nuc_mean',\n",
       "       'R7_GATA4_ring_mean', 'nuc_area', 'R5_p38_ratio', 'R7_pp38_nuc_mean',\n",
       "       'R2_pp65_ring_mean', 'R1_p16_nuc_mean', 'R3_p53_ring_mean',\n",
       "       'R2_pp65_nuc_mean', 'R3_PLAUR_ring_mean', 'R3_PLAUR_nuc_mean',\n",
       "       'R1_Jak2_nuc_mean', 'R7_pp38_ring_mean', 'R5_STAT5_ratio',\n",
       "       'R5_STAT5_nuc_mean', 'R6_p65_ratio', 'R7_pp38_ratio',\n",
       "       'R1_p21_ring_mean', 'R1_p16_ring_mean', 'R4_PARP1_nuc_mean',\n",
       "       'R6_pSTAT3_ratio', 'minor_axis_length', 'R5_STAT5_ring_mean',\n",
       "       'R3_p53_nuc_mean', 'R1_Jak2_ratio', 'R2_IL6_ratio', 'R1_Jak2_ring_mean',\n",
       "       'R2_pp65_ratio', 'R4_PARP1_ratio', 'R7_GATA4_ratio',\n",
       "       'major_axis_length'],\n",
       "      dtype='object')"
      ]
     },
     "execution_count": 7,
     "metadata": {},
     "output_type": "execute_result"
    }
   ],
   "source": [
    "l_score_standard.index[:46]"
   ]
  },
  {
   "cell_type": "markdown",
   "id": "07324ee4",
   "metadata": {},
   "source": [
    "For plotting 3D PHATE structures"
   ]
  },
  {
   "cell_type": "code",
   "execution_count": null,
   "id": "443bebd2",
   "metadata": {},
   "outputs": [],
   "source": [
    "import os\n",
    "import numpy as np\n",
    "import phate\n",
    "import matplotlib.pyplot as plt\n",
    "from mpl_toolkits.mplot3d import Axes3D\n",
    "import matplotlib.colors as mcolors\n",
    "\n",
    "# Define parameter ranges\n",
    "count_list = [200]\n",
    "index_ranges = [46]\n",
    "t_values = ['auto']\n",
    "gamma_values = [1]\n",
    "\n",
    "# Ensure the directory for saving plots exists\n",
    "plots_dir = 'phate_plots'\n",
    "os.makedirs(plots_dir, exist_ok=True)\n",
    "\n",
    "# Loop over each combination of parameters\n",
    "for count in count_list:\n",
    "    for index_range in index_ranges:\n",
    "        for t in t_values:\n",
    "            for gamma in gamma_values:\n",
    "                # Initialize PHATE operator with varying t and gamma, projecting to three dimensions\n",
    "                phate_op = phate.PHATE(knn=count, t=t, gamma=gamma, n_components=3)\n",
    "\n",
    "                # Fit-transform PHATE\n",
    "                X_phate = phate_op.fit_transform(standard_trimmed_noPSTAT5_adata_sub.X[:, np.isin(standard_trimmed_noPSTAT5_adata_sub.var_names, l_score_standard.index[:index_range])])\n",
    "                \n",
    "                # Set PHATE result for plotting\n",
    "                standard_trimmed_noPSTAT5_adata_sub.obsm['X_phate'] = X_phate\n",
    "                \n",
    "                # Generate plot title\n",
    "                plot_title = f'PHATE: Neighbors={count}, Index Range={index_range}, t={t}, gamma={gamma}'\n",
    "\n",
    "                # Define angles for rotation in degrees\n",
    "                angles = [(30, 30), (30, 120), (30, 210), (30, 300)]\n",
    "\n",
    "                # Define unique labels and their corresponding colors\n",
    "                labels = np.unique(standard_trimmed_noPSTAT5_adata_sub.obs['sample_ID'])\n",
    "                color_map = plt.get_cmap('viridis', len(labels))\n",
    "                colors = color_map(np.linspace(0, 1, len(labels)))\n",
    "                color_dict = dict(zip(labels, colors))\n",
    "\n",
    "                for i, (elev, azim) in enumerate(angles, start=1):\n",
    "                    fig = plt.figure()\n",
    "                    ax = fig.add_subplot(111, projection='3d')\n",
    "                    # Plot each label with a unique color\n",
    "                    for label, color in color_dict.items():\n",
    "                        idx = standard_trimmed_noPSTAT5_adata_sub.obs['sample_ID'] == label\n",
    "                        ax.scatter(X_phate[idx, 0], X_phate[idx, 1], X_phate[idx, 2], color=color, label=label, s=5)\n",
    "                    \n",
    "                    ax.view_init(elev=elev, azim=azim)\n",
    "                    ax.set_title(plot_title)\n",
    "                    ax.legend(title='Sample ID', bbox_to_anchor=(1.05, 1), loc='upper left')\n",
    "                    plt.savefig(f'{plots_dir}/plot_neighbors_{count}_indexrange_{index_range}_t_{t}_gamma_{gamma}_3d_angle_{i}.png', bbox_inches='tight')\n",
    "                    plt.close()\n",
    "\n",
    "print(\"3D PHATE plots saved with multiple angles and legends.\")\n"
   ]
  },
  {
   "cell_type": "markdown",
   "id": "c322c771",
   "metadata": {},
   "source": [
    "After you've decided on a final structure, you can save the ADATA file. It should have the PHATE coordinates saved as part of it now, removing the need to recompute the phate structure if you want to plot different things onto it later"
   ]
  },
  {
   "cell_type": "code",
   "execution_count": null,
   "id": "56d5ddcb",
   "metadata": {},
   "outputs": [],
   "source": [
    "#Save the entire adata file with new PHATE embeddings\n",
    "adata_save_path = r'my\\save\\path\\standard_adata_sub_sub.h5ad'\n",
    "standard_trimmed_noPSTAT5_adata_sub.write_h5ad(adata_save_path)"
   ]
  }
 ],
 "metadata": {
  "kernelspec": {
   "display_name": "Python 3 (ipykernel)",
   "language": "python",
   "name": "python3"
  },
  "language_info": {
   "codemirror_mode": {
    "name": "ipython",
    "version": 3
   },
   "file_extension": ".py",
   "mimetype": "text/x-python",
   "name": "python",
   "nbconvert_exporter": "python",
   "pygments_lexer": "ipython3",
   "version": "3.7.13"
  }
 },
 "nbformat": 4,
 "nbformat_minor": 5
}
