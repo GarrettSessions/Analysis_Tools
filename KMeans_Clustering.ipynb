{
 "cells": [
  {
   "cell_type": "code",
   "execution_count": 1,
   "id": "0a8162ad",
   "metadata": {},
   "outputs": [
    {
     "name": "stdout",
     "output_type": "stream",
     "text": [
      "0.11.2\n",
      "1.9.1\n"
     ]
    }
   ],
   "source": [
    "import pickle\n",
    "import os\n",
    "import numpy as np\n",
    "import matplotlib.pyplot as plt\n",
    "from sklearn.decomposition import PCA\n",
    "from sklearn import preprocessing\n",
    "from matplotlib.backends.backend_pdf import PdfPages\n",
    "import seaborn as sns\n",
    "import pandas as pd\n",
    "import phate\n",
    "import math\n",
    "import random\n",
    "import gc\n",
    "import scprep\n",
    "from datetime import datetime, time\n",
    "from matplotlib.animation import ImageMagickWriter\n",
    "import matplotlib.animation as animation\n",
    "import zipfile\n",
    "from urllib.request import urlopen\n",
    "import scipy.stats as st\n",
    "from scipy.stats import norm\n",
    "from scipy.stats import gaussian_kde\n",
    "from scipy.stats import kde\n",
    "from scipy.stats import binned_statistic\n",
    "from scipy.stats import f_oneway\n",
    "from matplotlib.colors import LogNorm\n",
    "from mpl_toolkits.axes_grid1 import make_axes_locatable\n",
    "plt.rcParams['pdf.fonttype'] = 42\n",
    "print(sns.__version__)\n",
    "from anndata import AnnData\n",
    "import scanpy as sc\n",
    "from delve import *\n",
    "import anndata as ad\n",
    "from sklearn.preprocessing import MinMaxScaler\n",
    "from kh import sketch\n",
    "from sklearn.cluster import KMeans\n",
    "import umap\n",
    "print(sc.__version__)\n",
    "today = datetime.now().strftime(\"%m%d%Y-%H%M\")"
   ]
  },
  {
   "cell_type": "code",
   "execution_count": 2,
   "id": "9a1f8fea",
   "metadata": {},
   "outputs": [],
   "source": [
    "#Read back in the subsampled adata file\n",
    "adata_save_path = r'Z:\\Garrett\\4i_data\\050824_HuSynFibro_SenInduction\\cell_data\\standard_adata_sub_no_sparse.h5ad'\n",
    "standard_adata_sub_no_sparse = anndata.read_h5ad(adata_save_path)"
   ]
  },
  {
   "cell_type": "code",
   "execution_count": 3,
   "id": "a1cbbddd",
   "metadata": {},
   "outputs": [],
   "source": [
    "# Adjusted list comprehension to exclude var_names containing \"total\"\n",
    "columns_to_keep = [name for name in standard_adata_sub_no_sparse.var_names if \"total_nuc_protein\" not in name]\n",
    "\n",
    "# Selecting the data with only the columns to keep\n",
    "standard_trimmed_noPSTAT5_noTotal_adata_sub = standard_adata_sub_no_sparse[:, columns_to_keep]\n"
   ]
  },
  {
   "cell_type": "code",
   "execution_count": 4,
   "id": "359db9db",
   "metadata": {},
   "outputs": [],
   "source": [
    "def laplacian_score_fs(adata = None,\n",
    "                    k: int  = None,\n",
    "                    n_jobs: int  = -1):\n",
    "\n",
    "    X, feature_names, obs_names = parse_input(adata)\n",
    "    W = construct_affinity(X = X, k = k, n_jobs = n_jobs)\n",
    "    scores = laplacian_score(X = X, W = W)\n",
    "    predicted_features = pd.DataFrame(scores, index = feature_names, columns = ['laplacian_score'])\n",
    "    predicted_features = predicted_features.sort_values(by = 'laplacian_score', ascending = True)\n",
    "\n",
    "    return predicted_features "
   ]
  },
  {
   "cell_type": "code",
   "execution_count": 5,
   "id": "1d643e0d",
   "metadata": {
    "scrolled": true
   },
   "outputs": [],
   "source": [
    "#l_score_fullest = laplacian_score_fs(adata_fullest_sub, k = 200)\n",
    "l_score_standard = laplacian_score_fs(standard_adata_sub_no_sparse, k = 100)\n",
    "#l_score_normalized = laplacian_score_fs(normalized_trimmed_noPSTAT5_adata_sub, k = 200)"
   ]
  },
  {
   "cell_type": "code",
   "execution_count": 6,
   "id": "3a925de2",
   "metadata": {
    "scrolled": true
   },
   "outputs": [
    {
     "data": {
      "text/plain": [
       "48"
      ]
     },
     "execution_count": 6,
     "metadata": {},
     "output_type": "execute_result"
    }
   ],
   "source": [
    "len(l_score_standard)"
   ]
  },
  {
   "cell_type": "code",
   "execution_count": 7,
   "id": "5ed07509",
   "metadata": {
    "scrolled": false
   },
   "outputs": [
    {
     "data": {
      "text/plain": [
       "Index(['total_IL6_nuc', 'total_pp65_nuc', 'R4_IL8_nuc_mean',\n",
       "       'R4_PARP1_nuc_mean', 'total_PDPN_nuc', 'area', 'total_IL8_nuc',\n",
       "       'R1_IL6_nuc_mean', 'R1_pp65_nuc_mean', 'total_PARP1_nuc',\n",
       "       'R3_RB_ring_mean', 'R3_pRB_nuc_mean', 'R5_PDPN_nuc_mean',\n",
       "       'R0_p21_nuc_mean', 'R4_IL8_ring_mean', 'R1_Jak2_ring_mean',\n",
       "       'total_Jak2_nuc', 'total_p38_nuc', 'total_p21_nuc', 'total_p16_nuc',\n",
       "       'R1_Jak2_nuc_mean', 'total_GATA4_nuc', 'total_p53_nuc',\n",
       "       'R3_RB_nuc_mean', 'R0_p16_nuc_mean', 'total_pH2AX_nuc',\n",
       "       'R0_p38_ring_mean', 'R4_PARP1_ring_mean', 'R2_p53_ring_mean',\n",
       "       'R5_pH2AX_ring_mean', 'R5_pH2AX_nuc_mean', 'R2_GATA4_nuc_mean',\n",
       "       'R1_pp65_ring_mean', 'R0_p16_ring_mean', 'R0_p38_nuc_mean',\n",
       "       'R3_pRB_ring_mean', 'R2_p53_nuc_mean', 'R0_p21_ring_mean',\n",
       "       'R1_IL6_ring_mean', 'R5_PDPN_ring_mean', 'minor_axis_length',\n",
       "       'R0_DNA_nuc_mean', 'major_axis_length', 'R2_GATA4_ring_mean', 'pRB_RB',\n",
       "       'total_DNA'],\n",
       "      dtype='object')"
      ]
     },
     "execution_count": 7,
     "metadata": {},
     "output_type": "execute_result"
    }
   ],
   "source": [
    "l_score_standard.index[:46]"
   ]
  },
  {
   "cell_type": "markdown",
   "id": "d0fc7ca3",
   "metadata": {},
   "source": [
    "K Means Clustering - 2D"
   ]
  },
  {
   "cell_type": "code",
   "execution_count": null,
   "id": "2e09a17d",
   "metadata": {},
   "outputs": [],
   "source": [
    "# Step 1: Extract the data matrix from the AnnData object\n",
    "X = standard_trimmed_noPSTAT5_noTotal_adata_sub.X  # Ensure it's in a compatible format\n",
    "\n",
    "# Convert to dense format if necessary\n",
    "if isinstance(X, np.ndarray) is False:\n",
    "    X = X.toarray()\n",
    "\n",
    "# Dimensionality reduction for visualization using UMAP (calculate once)\n",
    "reducer = umap.UMAP(random_state=42)\n",
    "embedding = reducer.fit_transform(X)\n",
    "\n",
    "# Store UMAP coordinates in the AnnData object\n",
    "standard_trimmed_noPSTAT5_noTotal_adata_sub.obsm['X_umap'] = embedding\n",
    "\n",
    "# Define a list of K values to loop through\n",
    "k_values = [4,5,6,7,8,9,10,11,12]\n",
    "\n",
    "for k in k_values:\n",
    "    # Run K-means clustering for the current value of K\n",
    "    kmeans = KMeans(n_clusters=k, random_state=0).fit(X)\n",
    "    \n",
    "    # Assign the cluster labels back to the AnnData object\n",
    "    cluster_label = f'kmeans_clusters_k{k}'\n",
    "    standard_trimmed_noPSTAT5_noTotal_adata_sub.obs[cluster_label] = kmeans.labels_.astype(str)\n",
    "    \n",
    "    # Plotting the clusters for the current value of K using the pre-computed UMAP coordinates\n",
    "    plt.figure(figsize=(10, 8))\n",
    "    scatter = plt.scatter(embedding[:, 0], embedding[:, 1], c=kmeans.labels_, cmap='viridis')\n",
    "    plt.title(f'K-means Clusters Visualized with UMAP for K={k}')\n",
    "    plt.xlabel('UMAP 1')\n",
    "    plt.ylabel('UMAP 2')\n",
    "    plt.colorbar(scatter, label='Cluster Label')\n",
    "    plt.show()\n",
    "\n",
    "    # Report sample_IDs present in each cluster and their counts\n",
    "    for i in range(k):\n",
    "        cluster_sample_ids = standard_trimmed_noPSTAT5_noTotal_adata_sub.obs.loc[standard_trimmed_noPSTAT5_noTotal_adata_sub.obs[cluster_label] == str(i), 'sample_ID']\n",
    "        print(f'Cluster {i} for K={k} analysis:')\n",
    "        # Reporting unique sample_IDs\n",
    "        unique_sample_ids = cluster_sample_ids.unique()\n",
    "        print(f'Contains unique sample_IDs: {unique_sample_ids}')\n",
    "        # Reporting counts of cells from each sample_ID in the cluster\n",
    "        sample_id_counts = cluster_sample_ids.value_counts()\n",
    "        print(f'Counts of cells from each sample_ID in the cluster:\\n{sample_id_counts}\\n')\n"
   ]
  },
  {
   "cell_type": "markdown",
   "id": "eb87d4cd",
   "metadata": {},
   "source": [
    "K Means Clustering - 3D"
   ]
  },
  {
   "cell_type": "code",
   "execution_count": null,
   "id": "7bd3aff1",
   "metadata": {},
   "outputs": [],
   "source": [
    "import matplotlib.pyplot as plt\n",
    "from sklearn.cluster import KMeans\n",
    "\n",
    "# Step 1: Retrieve the PHATE embeddings from the AnnData object\n",
    "embedding = standard_trimmed_noPSTAT5_adata_sub.obsm['X_phate']\n",
    "\n",
    "# Define a list of K values to loop through\n",
    "k_values = [4, 5, 6, 7, 8, 9, 10, 11, 12]\n",
    "\n",
    "for k in k_values:\n",
    "    # Run K-means clustering for the current value of K using the precomputed PHATE embeddings\n",
    "    kmeans = KMeans(n_clusters=k, random_state=0).fit(embedding)\n",
    "    \n",
    "    # Assign the cluster labels back to the AnnData object\n",
    "    cluster_label = f'kmeans_clusters_k{k}'\n",
    "    standard_trimmed_noPSTAT5_adata_sub.obs[cluster_label] = kmeans.labels_.astype(str)\n",
    "    \n",
    "    # Plotting the clusters for the current value of K using the pre-computed PHATE coordinates\n",
    "    fig = plt.figure(figsize=(20, 16))\n",
    "    # Define four views with 90-degree rotations in azimuthal angle\n",
    "    views = [(30, 30), (30, 120), (30, 210), (30, 300)]\n",
    "    for i, (elev, azim) in enumerate(views, start=1):\n",
    "        ax = fig.add_subplot(2, 2, i, projection='3d')\n",
    "        scatter = ax.scatter(embedding[:, 0], embedding[:, 1], embedding[:, 2], c=kmeans.labels_, cmap='viridis')\n",
    "        ax.view_init(elev=elev, azim=azim)\n",
    "        ax.set_xlabel('PHATE 1')\n",
    "        ax.set_ylabel('PHATE 2')\n",
    "        ax.set_zlabel('PHATE 3')\n",
    "        ax.set_title(f'View {i} - Elev {elev}, Azim {azim}')\n",
    "    \n",
    "    plt.colorbar(scatter, ax=fig.axes, orientation='horizontal', label='Cluster Label')\n",
    "    plt.suptitle(f'K-means Clusters Visualized with PHATE for K={k}')\n",
    "    plt.show()\n",
    "\n",
    "    # Report sample_IDs present in each cluster and their counts\n",
    "    for i in range(k):\n",
    "        cluster_sample_ids = standard_trimmed_noPSTAT5_adata_sub.obs.loc[standard_trimmed_noPSTAT5_adata_sub.obs[cluster_label] == str(i), 'sample_ID']\n",
    "        print(f'Cluster {i} for K={k} analysis:')\n",
    "        # Reporting unique sample_IDs\n",
    "        unique_sample_ids = cluster_sample_ids.unique()\n",
    "        print(f'Contains unique sample_IDs: {unique_sample_ids}')\n",
    "        # Reporting counts of cells from each sample_ID in the cluster\n",
    "        sample_id_counts = cluster_sample_ids.value_counts()\n",
    "        print(f'Counts of cells from each sample_ID in the cluster:\\n{sample_id_counts}\\n')\n"
   ]
  }
 ],
 "metadata": {
  "kernelspec": {
   "display_name": "Python 3 (ipykernel)",
   "language": "python",
   "name": "python3"
  },
  "language_info": {
   "codemirror_mode": {
    "name": "ipython",
    "version": 3
   },
   "file_extension": ".py",
   "mimetype": "text/x-python",
   "name": "python",
   "nbconvert_exporter": "python",
   "pygments_lexer": "ipython3",
   "version": "3.7.13"
  }
 },
 "nbformat": 4,
 "nbformat_minor": 5
}
