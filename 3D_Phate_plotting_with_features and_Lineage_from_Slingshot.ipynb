{
 "cells": [
  {
   "cell_type": "code",
   "execution_count": 1,
   "id": "0a8162ad",
   "metadata": {},
   "outputs": [
    {
     "name": "stdout",
     "output_type": "stream",
     "text": [
      "0.11.2\n",
      "1.9.1\n"
     ]
    }
   ],
   "source": [
    "import pickle\n",
    "import os\n",
    "import numpy as np\n",
    "import matplotlib.pyplot as plt\n",
    "from sklearn.decomposition import PCA\n",
    "from sklearn import preprocessing\n",
    "from matplotlib.backends.backend_pdf import PdfPages\n",
    "import seaborn as sns\n",
    "import pandas as pd\n",
    "import phate\n",
    "import math\n",
    "import random\n",
    "import gc\n",
    "import scprep\n",
    "from datetime import datetime, time\n",
    "from matplotlib.animation import ImageMagickWriter\n",
    "import matplotlib.animation as animation\n",
    "import zipfile\n",
    "from urllib.request import urlopen\n",
    "import scipy.stats as st\n",
    "from scipy.stats import norm\n",
    "from scipy.stats import gaussian_kde\n",
    "from scipy.stats import kde\n",
    "from scipy.stats import binned_statistic\n",
    "from scipy.stats import f_oneway\n",
    "from matplotlib.colors import LogNorm\n",
    "from mpl_toolkits.axes_grid1 import make_axes_locatable\n",
    "plt.rcParams['pdf.fonttype'] = 42\n",
    "print(sns.__version__)\n",
    "from anndata import AnnData\n",
    "import scanpy as sc\n",
    "from delve import *\n",
    "import anndata as ad\n",
    "from sklearn.preprocessing import MinMaxScaler\n",
    "from kh import sketch\n",
    "from sklearn.cluster import KMeans\n",
    "import umap\n",
    "print(sc.__version__)\n",
    "today = datetime.now().strftime(\"%m%d%Y-%H%M\")"
   ]
  },
  {
   "cell_type": "code",
   "execution_count": 2,
   "id": "9a1f8fea",
   "metadata": {},
   "outputs": [
    {
     "name": "stderr",
     "output_type": "stream",
     "text": [
      "c:\\Users\\gases\\.conda\\envs\\python_3_7\\lib\\site-packages\\anndata\\_core\\anndata.py:121: ImplicitModificationWarning: Transforming to str index.\n",
      "  warnings.warn(\"Transforming to str index.\", ImplicitModificationWarning)\n"
     ]
    }
   ],
   "source": [
    "#Read back in the subsampled adata file\n",
    "adata_save_path = r'Z:\\Garrett\\4i_data\\112723_RPE_31day_Etop\\experiment\\cell_data\\standard_trimmed_noPSTAT5_adata_sub.h5ad'\n",
    "standard_trimmed_noPSTAT5_adata_sub = anndata.read_h5ad(adata_save_path)"
   ]
  },
  {
   "cell_type": "code",
   "execution_count": 3,
   "id": "a1cbbddd",
   "metadata": {},
   "outputs": [],
   "source": [
    "# Adjusted list comprehension to exclude var_names containing \"total\"\n",
    "columns_to_keep = [name for name in standard_trimmed_noPSTAT5_adata_sub.var_names if \"total_nuc_protein\" not in name]\n",
    "\n",
    "# Selecting the data with only the columns to keep\n",
    "standard_trimmed_noPSTAT5_noTotal_adata_sub = standard_trimmed_noPSTAT5_adata_sub[:, columns_to_keep]\n"
   ]
  },
  {
   "cell_type": "code",
   "execution_count": 4,
   "id": "359db9db",
   "metadata": {},
   "outputs": [],
   "source": [
    "def laplacian_score_fs(adata = None,\n",
    "                    k: int  = None,\n",
    "                    n_jobs: int  = -1):\n",
    "\n",
    "    X, feature_names, obs_names = parse_input(adata)\n",
    "    W = construct_affinity(X = X, k = k, n_jobs = n_jobs)\n",
    "    scores = laplacian_score(X = X, W = W)\n",
    "    predicted_features = pd.DataFrame(scores, index = feature_names, columns = ['laplacian_score'])\n",
    "    predicted_features = predicted_features.sort_values(by = 'laplacian_score', ascending = True)\n",
    "\n",
    "    return predicted_features "
   ]
  },
  {
   "cell_type": "code",
   "execution_count": 5,
   "id": "1d643e0d",
   "metadata": {
    "scrolled": true
   },
   "outputs": [],
   "source": [
    "#l_score_fullest = laplacian_score_fs(adata_fullest_sub, k = 200)\n",
    "l_score_standard = laplacian_score_fs(standard_trimmed_noPSTAT5_adata_sub, k = 100)\n",
    "#l_score_normalized = laplacian_score_fs(normalized_trimmed_noPSTAT5_adata_sub, k = 200)"
   ]
  },
  {
   "cell_type": "code",
   "execution_count": 6,
   "id": "3a925de2",
   "metadata": {
    "scrolled": true
   },
   "outputs": [
    {
     "data": {
      "text/plain": [
       "84"
      ]
     },
     "execution_count": 6,
     "metadata": {},
     "output_type": "execute_result"
    }
   ],
   "source": [
    "len(l_score_standard)"
   ]
  },
  {
   "cell_type": "code",
   "execution_count": 10,
   "id": "5ed07509",
   "metadata": {
    "scrolled": false
   },
   "outputs": [
    {
     "data": {
      "text/plain": [
       "Index(['R5_p38_nuc_mean', 'R0_pRb_nuc_mean', 'R6_pSTAT3_ring_mean',\n",
       "       'R2_IL6_ring_mean', 'R0_pRb_ratio', 'R6_p65_ring_mean',\n",
       "       'R6_pSTAT3_nuc_mean', 'R5_p38_ring_mean', 'R6_p65_nuc_mean',\n",
       "       'R4_IL8_ring_mean', 'R0_Rb_ratio', 'R1_p21_nuc_mean', 'R2_IL6_nuc_mean',\n",
       "       'R7_GATA4_nuc_mean', 'R1_p21_ratio', 'R0_Rb_nuc_mean',\n",
       "       'R7_GATA4_ring_mean', 'nuc_area', 'R5_p38_ratio', 'R7_pp38_nuc_mean',\n",
       "       'R2_pp65_ring_mean', 'R1_p16_nuc_mean', 'R3_p53_ring_mean',\n",
       "       'R2_pp65_nuc_mean', 'R3_PLAUR_ring_mean', 'R3_PLAUR_nuc_mean',\n",
       "       'R1_Jak2_nuc_mean', 'R7_pp38_ring_mean', 'R5_STAT5_ratio',\n",
       "       'R5_STAT5_nuc_mean', 'R6_p65_ratio', 'R7_pp38_ratio',\n",
       "       'R1_p21_ring_mean', 'R1_p16_ring_mean', 'R4_PARP1_nuc_mean',\n",
       "       'R6_pSTAT3_ratio', 'minor_axis_length', 'R5_STAT5_ring_mean',\n",
       "       'R3_p53_nuc_mean', 'R1_Jak2_ratio', 'R2_IL6_ratio', 'R1_Jak2_ring_mean',\n",
       "       'R2_pp65_ratio', 'R4_PARP1_ratio', 'R7_GATA4_ratio',\n",
       "       'major_axis_length'],\n",
       "      dtype='object')"
      ]
     },
     "execution_count": 10,
     "metadata": {},
     "output_type": "execute_result"
    }
   ],
   "source": [
    "l_score_standard.index[:46]"
   ]
  },
  {
   "cell_type": "markdown",
   "id": "05702d63",
   "metadata": {},
   "source": [
    "Code below taking inputs from Slingshot processing (Done in R) and any provided Clustering strategy.\n",
    "Phate must be run and the PHATE coordinates saved using methods from the PHATE plotting notebook.\n",
    "Produces a graph that plots specified clusters and overlays the Lineage information provided by Slingshot."
   ]
  },
  {
   "cell_type": "code",
   "execution_count": 7,
   "id": "3cb436ab",
   "metadata": {},
   "outputs": [
    {
     "data": {
      "text/plain": [
       "Index(['nuc_area', 'major_axis_length', 'minor_axis_length', 'R0_DNA_nuc_mean',\n",
       "       'R0_Rb_nuc_mean', 'R0_pRb_nuc_mean', 'R1_Jak2_nuc_mean',\n",
       "       'R1_p16_nuc_mean', 'R1_p21_nuc_mean', 'R2_pp65_nuc_mean',\n",
       "       'R2_IL6_nuc_mean', 'R3_p53_nuc_mean', 'R3_PLAUR_nuc_mean',\n",
       "       'R4_IL8_nuc_mean', 'R4_PARP1_nuc_mean', 'R5_STAT5_nuc_mean',\n",
       "       'R5_p38_nuc_mean', 'R6_pSTAT3_nuc_mean', 'R6_p65_nuc_mean',\n",
       "       'R7_pp38_nuc_mean', 'R7_GATA4_nuc_mean', 'R0_DNA_ring_mean',\n",
       "       'R0_Rb_ring_mean', 'R0_pRb_ring_mean', 'R1_Jak2_ring_mean',\n",
       "       'R1_p16_ring_mean', 'R1_p21_ring_mean', 'R2_pp65_ring_mean',\n",
       "       'R2_IL6_ring_mean', 'R3_p53_ring_mean', 'R3_PLAUR_ring_mean',\n",
       "       'R4_IL8_ring_mean', 'R4_PARP1_ring_mean', 'R5_STAT5_ring_mean',\n",
       "       'R5_p38_ring_mean', 'R6_pSTAT3_ring_mean', 'R6_p65_ring_mean',\n",
       "       'R7_pp38_ring_mean', 'R7_GATA4_ring_mean', 'R0_DNA_total_nuc_protein',\n",
       "       'R0_Rb_total_nuc_protein', 'R0_pRb_total_nuc_protein',\n",
       "       'R1_Jak2_total_nuc_protein', 'R1_p16_total_nuc_protein',\n",
       "       'R1_p21_total_nuc_protein', 'R2_pp65_total_nuc_protein',\n",
       "       'R2_IL6_total_nuc_protein', 'R3_p53_total_nuc_protein',\n",
       "       'R3_PLAUR_total_nuc_protein', 'R4_IL8_total_nuc_protein',\n",
       "       'R4_PARP1_total_nuc_protein', 'R5_STAT5_total_nuc_protein',\n",
       "       'R5_p38_total_nuc_protein', 'R6_pSTAT3_total_nuc_protein',\n",
       "       'R6_p65_total_nuc_protein', 'R7_pp38_total_nuc_protein',\n",
       "       'R7_GATA4_total_nuc_protein', 'pRB_RB_nuc_mean_ratio',\n",
       "       'pRB_RB_ring_mean_ratio', 'pRB_RB_nuc_total_ratio',\n",
       "       'pp65_p65_nuc_mean_ratio', 'pp65_p65_ring_mean_ratio',\n",
       "       'pp65_p65_nuc_total_ratio', 'pp38_p38_nuc_mean_ratio',\n",
       "       'pp38_p38_ring_mean_ratio', 'pp38_p38_nuc_total_ratio', 'R0_pRb_ratio',\n",
       "       'R0_Rb_ratio', 'R7_pp38_ratio', 'R1_p16_ratio', 'R4_PARP1_ratio',\n",
       "       'R3_p53_ratio', 'R3_PLAUR_ratio', 'R1_p21_ratio', 'R2_pp65_ratio',\n",
       "       'R5_p38_ratio', 'R4_IL8_ratio', 'R2_IL6_ratio', 'R7_GATA4_ratio',\n",
       "       'R1_Jak2_ratio', 'R5_STAT5_ratio', 'R6_pSTAT3_ratio', 'R0_DNA_ratio',\n",
       "       'R6_p65_ratio'],\n",
       "      dtype='object')"
      ]
     },
     "execution_count": 7,
     "metadata": {},
     "output_type": "execute_result"
    }
   ],
   "source": [
    "standard_trimmed_noPSTAT5_adata_sub.var_names"
   ]
  },
  {
   "cell_type": "code",
   "execution_count": 20,
   "id": "4603b5a5",
   "metadata": {},
   "outputs": [],
   "source": [
    "import os\n",
    "import matplotlib.pyplot as plt\n",
    "import pandas as pd\n",
    "import seaborn as sns\n",
    "import numpy as np\n",
    "from PIL import Image\n",
    "\n",
    "# Create a folder to save the images if it does not exist\n",
    "output_folder = 'output_plots'\n",
    "if not os.path.exists(output_folder):\n",
    "    os.makedirs(output_folder)\n",
    "\n",
    "# Step 1: Retrieve the PHATE embeddings from the AnnData object\n",
    "embedding = standard_trimmed_noPSTAT5_adata_sub.obsm['X_phate']\n",
    "\n",
    "# Load CSV data\n",
    "csv_path = r'C:\\Users\\gases\\Desktop\\slingshot_trajectories.csv'\n",
    "lineage_data = pd.read_csv(csv_path)  # Changed variable name to lineage_data\n",
    "\n",
    "# Identify unique lineages and assign a color to each\n",
    "unique_lineages = lineage_data['Lineage'].unique()\n",
    "lineage_color_map = plt.get_cmap('tab10', len(unique_lineages))\n",
    "lineage_colors = lineage_color_map(np.linspace(0, 1, len(unique_lineages)))\n",
    "lineage_color_dict = dict(zip(unique_lineages, lineage_colors))\n",
    "\n",
    "for feature in standard_trimmed_noPSTAT5_adata_sub.var_names:\n",
    "    feature_intensity = standard_trimmed_noPSTAT5_adata_sub[:, feature].X.flatten()\n",
    "    \n",
    "    # Limit the visualized range from the 1st to the 99th percentile\n",
    "    vmin, vmax = np.percentile(feature_intensity, [1, 99])\n",
    "    \n",
    "    views = [(30, 30), (30, 120), (30, 210), (30, 300)]\n",
    "    \n",
    "    for i, (elev, azim) in enumerate(views, start=1):\n",
    "        # Create a 3D subplot for points with white background\n",
    "        fig_points = plt.figure(figsize=(20, 16))\n",
    "        ax_points = fig_points.add_subplot(1, 1, 1, projection='3d', facecolor='white')\n",
    "        scatter = ax_points.scatter(\n",
    "            embedding[:, 0], embedding[:, 1], embedding[:, 2], \n",
    "            c=feature_intensity, cmap='viridis', vmin=vmin, vmax=vmax, s=50, zorder=1\n",
    "        )\n",
    "        \n",
    "        ax_points.view_init(elev=elev, azim=azim)\n",
    "        ax_points.set_xlabel('PHATE 1')\n",
    "        ax_points.set_ylabel('PHATE 2')\n",
    "        ax_points.set_zlabel('PHATE 3')\n",
    "        ax_points.set_title(f'{feature} - View {i} - Elev {elev}, Azim {azim}')\n",
    "        ax_points.set_facecolor('white')  # Set the background color to white\n",
    "\n",
    "        # Capture the axis limits\n",
    "        xlim = ax_points.get_xlim()\n",
    "        ylim = ax_points.get_ylim()\n",
    "        zlim = ax_points.get_zlim()\n",
    "        \n",
    "        points_file = os.path.join(output_folder, f'{feature}_points_view_{i}.png')\n",
    "        fig_points.savefig(points_file, transparent=True)\n",
    "        plt.close(fig_points)\n",
    "        \n",
    "        # Create a 3D subplot for lines with the same axis limits and transparent background\n",
    "        fig_lines = plt.figure(figsize=(20, 16))\n",
    "        ax_lines = fig_lines.add_subplot(1, 1, 1, projection='3d')\n",
    "        fig_lines.patch.set_alpha(0)  # Set the figure background to be transparent\n",
    "        ax_lines.patch.set_alpha(0)  # Set the axes background to be transparent\n",
    "        ax_lines.axis('off')  # Remove the axis\n",
    "        lineage_handles = []\n",
    "        for lineage, lineage_color in lineage_color_dict.items():\n",
    "            lineage_subset = lineage_data[lineage_data['Lineage'] == lineage].sort_values('Index')\n",
    "            # Apply cutoff for Lineage 2\n",
    "            if (lineage == 2) and ('Index' in lineage_subset.columns):\n",
    "                lineage_subset = lineage_subset[lineage_subset['Index'] <= 70]\n",
    "            line, = ax_lines.plot(lineage_subset['PHATE_1'], lineage_subset['PHATE_2'], lineage_subset['PHATE_3'], \n",
    "                                  color=lineage_color, label=f'Lineage {lineage}', linewidth=5, zorder=2)\n",
    "            lineage_handles.append(line)\n",
    "        \n",
    "        ax_lines.view_init(elev=elev, azim=azim)\n",
    "        ax_lines.set_xlim(xlim)\n",
    "        ax_lines.set_ylim(ylim)\n",
    "        ax_lines.set_zlim(zlim)\n",
    "        # Remove axis labels and titles\n",
    "        ax_lines.set_xlabel('')\n",
    "        ax_lines.set_ylabel('')\n",
    "        ax_lines.set_zlabel('')\n",
    "        ax_lines.set_title('')\n",
    "        lines_file = os.path.join(output_folder, f'{feature}_lines_view_{i}.png')\n",
    "        fig_lines.savefig(lines_file, transparent=True)\n",
    "        plt.close(fig_lines)\n",
    "        \n",
    "        # Combine images\n",
    "        points_image = Image.open(points_file)\n",
    "        lines_image = Image.open(lines_file)\n",
    "        combined_image = Image.alpha_composite(points_image.convert('RGBA'), lines_image.convert('RGBA'))\n",
    "        combined_file = os.path.join(output_folder, f'{feature}_combined_view_{i}.png')\n",
    "        combined_image.save(combined_file)\n",
    "        \n",
    "        # Save the legend as a separate image\n",
    "        fig_legend = plt.figure(figsize=(10, 5))\n",
    "        ax_legend = fig_legend.add_subplot(111)\n",
    "        ax_legend.axis('off')  # Hide the axes for the legend\n",
    "        legend_handles = lineage_handles\n",
    "        legend_labels = [handle.get_label() for handle in legend_handles]\n",
    "        legend = ax_legend.legend(handles=legend_handles, labels=legend_labels, loc='center', frameon=False)\n",
    "        legend_file = os.path.join(output_folder, f'{feature}_legend_view_{i}.png')\n",
    "        fig_legend.savefig(legend_file, transparent=True, bbox_inches='tight', pad_inches=0)\n",
    "        plt.close(fig_legend)\n"
   ]
  },
  {
   "cell_type": "code",
   "execution_count": null,
   "id": "1e821bf6",
   "metadata": {},
   "outputs": [],
   "source": []
  }
 ],
 "metadata": {
  "kernelspec": {
   "display_name": "Python 3 (ipykernel)",
   "language": "python",
   "name": "python3"
  },
  "language_info": {
   "codemirror_mode": {
    "name": "ipython",
    "version": 3
   },
   "file_extension": ".py",
   "mimetype": "text/x-python",
   "name": "python",
   "nbconvert_exporter": "python",
   "pygments_lexer": "ipython3",
   "version": "3.7.13"
  }
 },
 "nbformat": 4,
 "nbformat_minor": 5
}
